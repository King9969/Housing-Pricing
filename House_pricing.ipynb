{
  "nbformat": 4,
  "nbformat_minor": 0,
  "metadata": {
    "colab": {
      "provenance": []
    },
    "kernelspec": {
      "name": "python3",
      "display_name": "Python 3"
    },
    "language_info": {
      "name": "python"
    }
  },
  "cells": [
    {
      "cell_type": "code",
      "source": [
        "import pandas as pd\n",
        "from sklearn.model_selection import train_test_split\n",
        "from sklearn.linear_model import LinearRegression\n",
        "from sklearn.tree import DecisionTreeRegressor\n",
        "from sklearn.ensemble import RandomForestRegressor, GradientBoostingRegressor\n",
        "from sklearn.metrics import mean_squared_error, r2_score\n",
        "\n",
        "url = 'https://raw.githubusercontent.com/Data-Science-FMI/ml-from-scratch-2019/master/data/house_prices_train.csv'\n",
        "df = pd.read_csv(url)\n",
        "\n",
        "columns_to_drop = ['Id', 'Alley', 'PoolQC', 'MiscFeature','3SsnPorch']\n",
        "df.drop(columns_to_drop, axis=1, inplace=True)\n",
        "\n",
        "df.dropna(inplace=True)\n",
        "\n",
        "df = pd.get_dummies(df)\n",
        "\n",
        "X = df.drop('SalePrice', axis=1)\n",
        "y = df['SalePrice']\n",
        "\n",
        "X_train, X_test, y_train, y_test = train_test_split(X, y, test_size=0.2, random_state=42)\n",
        "\n",
        "models = {\n",
        "    'Linear Regression': LinearRegression(),\n",
        "    'Decision Tree Regression': DecisionTreeRegressor(),\n",
        "    'Random Forest Regression': RandomForestRegressor(),\n",
        "    'Gradient Boosting Regression': GradientBoostingRegressor(),\n",
        "}\n",
        "\n",
        "for model_name, model in models.items():\n",
        "    model.fit(X_train, y_train)\n",
        "    y_pred = model.predict(X_test)\n",
        "\n",
        "    mse = mean_squared_error(y_test, y_pred)\n",
        "    r2 = r2_score(y_test, y_pred)\n",
        "\n",
        "    print(\"\\n{}:\".format(model_name))\n",
        "    print(\"Mean Squared Error:\", mse)\n",
        "    print(\"R-squared:\", r2)"
      ],
      "metadata": {
        "id": "dihdo_Qfo5_s",
        "outputId": "67b65af2-49ed-4327-afb7-f6f9632a3354",
        "colab": {
          "base_uri": "https://localhost:8080/"
        }
      },
      "execution_count": null,
      "outputs": [
        {
          "output_type": "stream",
          "name": "stdout",
          "text": [
            "\n",
            "Linear Regression:\n",
            "Mean Squared Error: 3577399915.361617\n",
            "R-squared: 0.45168782756206083\n",
            "\n",
            "Decision Tree Regression:\n",
            "Mean Squared Error: 4620949625.0\n",
            "R-squared: 0.29174177124284084\n",
            "\n",
            "Random Forest Regression:\n",
            "Mean Squared Error: 2125079494.1611252\n",
            "R-squared: 0.6742866378893455\n",
            "\n",
            "Gradient Boosting Regression:\n",
            "Mean Squared Error: 2545781067.1953883\n",
            "R-squared: 0.6098052271116641\n"
          ]
        }
      ]
    }
  ]
}